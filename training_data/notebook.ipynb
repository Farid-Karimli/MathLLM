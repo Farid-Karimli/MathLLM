{
 "cells": [
  {
   "cell_type": "code",
   "execution_count": 114,
   "metadata": {},
   "outputs": [],
   "source": [
    "import pandas as pd\n",
    "import numpy as np\n",
    "import matplotlib.pyplot as plt\n",
    "import regex as re"
   ]
  },
  {
   "cell_type": "markdown",
   "metadata": {},
   "source": [
    "## Getting the theorems, definitions and corollaries referenced"
   ]
  },
  {
   "cell_type": "code",
   "execution_count": 48,
   "metadata": {},
   "outputs": [],
   "source": [
    "definitions = pd.read_csv('./functional_analysis/definitions.csv').sort_values(by='Definition').dropna().reset_index() \\\n",
    " .drop(columns='index').dropna()\n",
    "\n",
    "corollaries = pd.read_csv('./functional_analysis/corollaries.csv').sort_values(by='Corollary').dropna().reset_index() \\\n",
    " .drop(columns='index')"
   ]
  },
  {
   "cell_type": "code",
   "execution_count": 49,
   "metadata": {
    "scrolled": true
   },
   "outputs": [
    {
     "data": {
      "text/html": [
       "<div>\n",
       "<style scoped>\n",
       "    .dataframe tbody tr th:only-of-type {\n",
       "        vertical-align: middle;\n",
       "    }\n",
       "\n",
       "    .dataframe tbody tr th {\n",
       "        vertical-align: top;\n",
       "    }\n",
       "\n",
       "    .dataframe thead th {\n",
       "        text-align: right;\n",
       "    }\n",
       "</style>\n",
       "<table border=\"1\" class=\"dataframe\">\n",
       "  <thead>\n",
       "    <tr style=\"text-align: right;\">\n",
       "      <th></th>\n",
       "      <th>Definition</th>\n",
       "      <th>Statement</th>\n",
       "    </tr>\n",
       "  </thead>\n",
       "  <tbody>\n",
       "    <tr>\n",
       "      <th>0</th>\n",
       "      <td>1.16</td>\n",
       "      <td>['When $X$ and $Y$ are vector spaces over the ...</td>\n",
       "    </tr>\n",
       "    <tr>\n",
       "      <th>1</th>\n",
       "      <td>1.25 (a)</td>\n",
       "      <td>Suppose $d$ is a metric on a set $X$. A sequen...</td>\n",
       "    </tr>\n",
       "    <tr>\n",
       "      <th>2</th>\n",
       "      <td>1.25 (b)</td>\n",
       "      <td>Let $\\tau$ be the topology of a topological ve...</td>\n",
       "    </tr>\n",
       "    <tr>\n",
       "      <th>3</th>\n",
       "      <td>1.25 (c)</td>\n",
       "      <td>Suppose now that $X$ is a topological vector s...</td>\n",
       "    </tr>\n",
       "    <tr>\n",
       "      <th>4</th>\n",
       "      <td>1.31</td>\n",
       "      <td>Suppose $X$ and $Y$ are topological vector spa...</td>\n",
       "    </tr>\n",
       "  </tbody>\n",
       "</table>\n",
       "</div>"
      ],
      "text/plain": [
       "  Definition                                          Statement\n",
       "0       1.16  ['When $X$ and $Y$ are vector spaces over the ...\n",
       "1   1.25 (a)  Suppose $d$ is a metric on a set $X$. A sequen...\n",
       "2   1.25 (b)  Let $\\tau$ be the topology of a topological ve...\n",
       "3   1.25 (c)  Suppose now that $X$ is a topological vector s...\n",
       "4       1.31  Suppose $X$ and $Y$ are topological vector spa..."
      ]
     },
     "execution_count": 49,
     "metadata": {},
     "output_type": "execute_result"
    }
   ],
   "source": [
    "definitions.head()"
   ]
  },
  {
   "cell_type": "code",
   "execution_count": 50,
   "metadata": {},
   "outputs": [
    {
     "data": {
      "text/html": [
       "<div>\n",
       "<style scoped>\n",
       "    .dataframe tbody tr th:only-of-type {\n",
       "        vertical-align: middle;\n",
       "    }\n",
       "\n",
       "    .dataframe tbody tr th {\n",
       "        vertical-align: top;\n",
       "    }\n",
       "\n",
       "    .dataframe thead th {\n",
       "        text-align: right;\n",
       "    }\n",
       "</style>\n",
       "<table border=\"1\" class=\"dataframe\">\n",
       "  <thead>\n",
       "    <tr style=\"text-align: right;\">\n",
       "      <th></th>\n",
       "      <th>Corollary</th>\n",
       "      <th>Statement</th>\n",
       "      <th>Proof</th>\n",
       "    </tr>\n",
       "  </thead>\n",
       "  <tbody>\n",
       "    <tr>\n",
       "      <th>0</th>\n",
       "      <td>10.18 (a)</td>\n",
       "      <td>If $A$ is a closed subalgebra of a Banach alge...</td>\n",
       "      <td>Every member of $A$ that has an inverse in $A$...</td>\n",
       "    </tr>\n",
       "    <tr>\n",
       "      <th>1</th>\n",
       "      <td>10.18 (b)</td>\n",
       "      <td>Under the conditions that $A$ is a closed suba...</td>\n",
       "      <td>Let $\\Omega_{A}$ and $\\Omega_{B}$ be the compl...</td>\n",
       "    </tr>\n",
       "    <tr>\n",
       "      <th>2</th>\n",
       "      <td>11.10</td>\n",
       "      <td>Every isomorphism between two semisimple commu...</td>\n",
       "      <td>In particular, this is true of every automorph...</td>\n",
       "    </tr>\n",
       "    <tr>\n",
       "      <th>3</th>\n",
       "      <td>12.4</td>\n",
       "      <td>If $M$ is a closed subspace of $H$, then\\n\\n$$...</td>\n",
       "      <td>The inclusion $M \\subset\\left(M^{\\perp}\\right)...</td>\n",
       "    </tr>\n",
       "    <tr>\n",
       "      <th>4</th>\n",
       "      <td>2.12 (a)</td>\n",
       "      <td>If $\\Lambda$ is a continuous linear mapping of...</td>\n",
       "      <td>Statement $(a)$ follows from Theorem 2.11 and ...</td>\n",
       "    </tr>\n",
       "  </tbody>\n",
       "</table>\n",
       "</div>"
      ],
      "text/plain": [
       "   Corollary                                          Statement  \\\n",
       "0  10.18 (a)  If $A$ is a closed subalgebra of a Banach alge...   \n",
       "1  10.18 (b)  Under the conditions that $A$ is a closed suba...   \n",
       "2      11.10  Every isomorphism between two semisimple commu...   \n",
       "3       12.4  If $M$ is a closed subspace of $H$, then\\n\\n$$...   \n",
       "4   2.12 (a)  If $\\Lambda$ is a continuous linear mapping of...   \n",
       "\n",
       "                                               Proof  \n",
       "0  Every member of $A$ that has an inverse in $A$...  \n",
       "1  Let $\\Omega_{A}$ and $\\Omega_{B}$ be the compl...  \n",
       "2  In particular, this is true of every automorph...  \n",
       "3  The inclusion $M \\subset\\left(M^{\\perp}\\right)...  \n",
       "4  Statement $(a)$ follows from Theorem 2.11 and ...  "
      ]
     },
     "execution_count": 50,
     "metadata": {},
     "output_type": "execute_result"
    }
   ],
   "source": [
    "corollaries.head()"
   ]
  },
  {
   "cell_type": "code",
   "execution_count": 52,
   "metadata": {},
   "outputs": [],
   "source": [
    "theorems = pd.read_csv('./functional_analysis/theorems.csv').dropna() \\\n",
    "    .drop(theorems[theorems['Proof']==\"Error, no proof value given.\"].index, axis=0) \\\n",
    "    .sort_values(by='Theorem').reset_index().drop(columns='index') "
   ]
  },
  {
   "cell_type": "code",
   "execution_count": 53,
   "metadata": {
    "scrolled": true
   },
   "outputs": [
    {
     "data": {
      "text/html": [
       "<div>\n",
       "<style scoped>\n",
       "    .dataframe tbody tr th:only-of-type {\n",
       "        vertical-align: middle;\n",
       "    }\n",
       "\n",
       "    .dataframe tbody tr th {\n",
       "        vertical-align: top;\n",
       "    }\n",
       "\n",
       "    .dataframe thead th {\n",
       "        text-align: right;\n",
       "    }\n",
       "</style>\n",
       "<table border=\"1\" class=\"dataframe\">\n",
       "  <thead>\n",
       "    <tr style=\"text-align: right;\">\n",
       "      <th></th>\n",
       "      <th>Theorem</th>\n",
       "      <th>Statement</th>\n",
       "      <th>Proof</th>\n",
       "    </tr>\n",
       "  </thead>\n",
       "  <tbody>\n",
       "    <tr>\n",
       "      <th>0</th>\n",
       "      <td>1.10</td>\n",
       "      <td>Suppose $K$ and $C$ are subsets of a topologic...</td>\n",
       "      <td>0 has a neighborhood $V$ such that\\n\\n$$\\n(K+V...</td>\n",
       "    </tr>\n",
       "    <tr>\n",
       "      <th>1</th>\n",
       "      <td>1.13 (a)</td>\n",
       "      <td>Let $X$ be a topological vector space. If $A \\...</td>\n",
       "      <td>$x \\in \\bar{A}$ if and only if $(x+V) \\cap A \\...</td>\n",
       "    </tr>\n",
       "    <tr>\n",
       "      <th>2</th>\n",
       "      <td>1.13 (b)</td>\n",
       "      <td>Let $X$ be a topological vector space. If $A \\...</td>\n",
       "      <td>Take $a \\in \\bar{A}, b \\in \\bar{B}$; let $W$ b...</td>\n",
       "    </tr>\n",
       "    <tr>\n",
       "      <th>3</th>\n",
       "      <td>1.13 (c)</td>\n",
       "      <td>Let $X$ be a topological vector space. If $Y$ ...</td>\n",
       "      <td>Suppose $\\alpha$ and $\\beta$ are scalars. By t...</td>\n",
       "    </tr>\n",
       "    <tr>\n",
       "      <th>4</th>\n",
       "      <td>1.13 (d)</td>\n",
       "      <td>Let $X$ be a topological vector space. If $C$ ...</td>\n",
       "      <td>Since $C^{\\circ} \\subset C$ and $C$ is convex,...</td>\n",
       "    </tr>\n",
       "  </tbody>\n",
       "</table>\n",
       "</div>"
      ],
      "text/plain": [
       "    Theorem                                          Statement  \\\n",
       "0      1.10  Suppose $K$ and $C$ are subsets of a topologic...   \n",
       "1  1.13 (a)  Let $X$ be a topological vector space. If $A \\...   \n",
       "2  1.13 (b)  Let $X$ be a topological vector space. If $A \\...   \n",
       "3  1.13 (c)  Let $X$ be a topological vector space. If $Y$ ...   \n",
       "4  1.13 (d)  Let $X$ be a topological vector space. If $C$ ...   \n",
       "\n",
       "                                               Proof  \n",
       "0  0 has a neighborhood $V$ such that\\n\\n$$\\n(K+V...  \n",
       "1  $x \\in \\bar{A}$ if and only if $(x+V) \\cap A \\...  \n",
       "2  Take $a \\in \\bar{A}, b \\in \\bar{B}$; let $W$ b...  \n",
       "3  Suppose $\\alpha$ and $\\beta$ are scalars. By t...  \n",
       "4  Since $C^{\\circ} \\subset C$ and $C$ is convex,...  "
      ]
     },
     "execution_count": 53,
     "metadata": {},
     "output_type": "execute_result"
    }
   ],
   "source": [
    "theorems.head()"
   ]
  },
  {
   "cell_type": "code",
   "execution_count": 73,
   "metadata": {},
   "outputs": [],
   "source": [
    "# regex to get the theorems, defs and corollaries used in the proofs. Get text that looks like 'Theorem <multiple digit number>.<multiple digit number>' or 'Statement <letter or number> of Theorem <multiple digit number>.<multiple digit number>'\n",
    "theorem_pattern = r'(Theorem \\d+\\.\\d+)'\n",
    "definition_pattern = r'(Definition \\d+\\.\\d+)'\n",
    "corollary_pattern = r'(Corollary \\d+\\.\\d+)'"
   ]
  },
  {
   "cell_type": "code",
   "execution_count": 117,
   "metadata": {},
   "outputs": [],
   "source": [
    "def get_statements(df, references):\n",
    "    index_column_name = df.columns[0]\n",
    "    entry = ''            \n",
    "    # get the referenced statements from the dataset\n",
    "    for t in references:\n",
    "        number = t.split(' ')[1]   \n",
    "        try:\n",
    "            statement = df[df[index_column_name]==number]['Statement'].values[0]\n",
    "        except:\n",
    "            statement = ''\n",
    "            # print('References not found')\n",
    "        if statement=='':\n",
    "            # maybe has multiple sub-statements\n",
    "            statement += ';'.join(df[df[index_column_name].str.contains(number)]['Statement'].values)           \n",
    "        entry += statement + '; '         \n",
    "    return entry"
   ]
  },
  {
   "cell_type": "code",
   "execution_count": 104,
   "metadata": {},
   "outputs": [
    {
     "name": "stdout",
     "output_type": "stream",
     "text": [
      "['Theorem 1.14', 'Theorem 1.17']\n",
      "Theorem\n"
     ]
    },
    {
     "data": {
      "text/plain": [
       "'In a topological vector space $X$, every neighborhood of 0 contains a balanced neighborhood of 0 .;In a topological vector space $X$, every convex neighborhood of 0 contains a balanced convex neighborhood of 0 .; Let $X$ and $Y$ be topological vector spaces. If $\\\\Lambda: X \\\\rightarrow Y$ is linear and continuous at 0 , then $\\\\Lambda$ is continuous. In fact, $\\\\Lambda$ is uniformly continuous, in the following sense: To each neighborhood $W$ of 0 in $Y$ corresponds a neighborhood $V$ of 0 in $X$ such that\\n\\n$$\\ny-x \\\\in V \\\\text { implies } \\\\Lambda y-\\\\Lambda x \\\\in W .\\n$$; '"
      ]
     },
     "execution_count": 104,
     "metadata": {},
     "output_type": "execute_result"
    }
   ],
   "source": [
    "example = 'Since $\\mathscr{N}(\\Lambda)=\\Lambda^{-1}(\\{0\\})$ and $\\{0\\}$ is a closed subset of the scalar field $\\Phi,(a)$ implies $(b)$. By hypothesis, $\\mathcal{N}(\\Lambda) \\neq X$. Hence $(b)$ implies $(c)$.  Assume (c) holds; i.e., assume that the complement of $\\mathcal{N}(\\Lambda)$ has nonempty interior. By Theorem 1.14,  $$ (x+V) \\cap \\mathcal{N}(\\Lambda)=\\varnothing $$  for some $x \\in X$ and some balanced neighborhood $V$ of 0 . Then $\\Lambda V$ is a balanced subset of the field $\\Phi$. Thus either $\\Lambda V$ is bounded, in which case $(d)$ holds, or $\\Lambda V=\\Phi$. In the latter case, there exists $y \\in V$ such that $\\Lambda y=-\\Lambda x$, and so $x+y \\in \\mathcal{N}(\\Lambda)$, in contradiction to (1). Thus (c) implies $(d)$.  Finally, if $(d)$ holds then $|\\Lambda x|<M$ for all $x$ in $V$ and for some $M<\\infty$. If $r>0$ and if $W=(r / M) V$, then $|\\Lambda x|<r$ for every $x$ in $W$. Hence $\\Lambda$ is continuous at the origin. By Theorem 1.17, this implies $(a)$.'\n",
    "\n",
    "theorems_used = re.findall(theorem_pattern, example)\n",
    "print(theorems_used)\n",
    "\n",
    "\n",
    "get_statements(theorems, theorems_used)"
   ]
  },
  {
   "cell_type": "code",
   "execution_count": 121,
   "metadata": {
    "scrolled": true
   },
   "outputs": [
    {
     "name": "stdout",
     "output_type": "stream",
     "text": [
      "functional_analysis\n",
      "principles_of_mathematical_analysis\n",
      "real_and_complex_analysis\n"
     ]
    },
    {
     "name": "stderr",
     "output_type": "stream",
     "text": [
      "/var/folders/jq/q22zxtcs4yl475k7x_drgf540000gn/T/ipykernel_71265/4125148344.py:43: SettingWithCopyWarning: \n",
      "A value is trying to be set on a copy of a slice from a DataFrame\n",
      "\n",
      "See the caveats in the documentation: https://pandas.pydata.org/pandas-docs/stable/user_guide/indexing.html#returning-a-view-versus-a-copy\n",
      "  theorems['References'][i] = entry\n",
      "/var/folders/jq/q22zxtcs4yl475k7x_drgf540000gn/T/ipykernel_71265/4125148344.py:43: SettingWithCopyWarning: \n",
      "A value is trying to be set on a copy of a slice from a DataFrame\n",
      "\n",
      "See the caveats in the documentation: https://pandas.pydata.org/pandas-docs/stable/user_guide/indexing.html#returning-a-view-versus-a-copy\n",
      "  theorems['References'][i] = entry\n",
      "/var/folders/jq/q22zxtcs4yl475k7x_drgf540000gn/T/ipykernel_71265/4125148344.py:43: SettingWithCopyWarning: \n",
      "A value is trying to be set on a copy of a slice from a DataFrame\n",
      "\n",
      "See the caveats in the documentation: https://pandas.pydata.org/pandas-docs/stable/user_guide/indexing.html#returning-a-view-versus-a-copy\n",
      "  theorems['References'][i] = entry\n"
     ]
    }
   ],
   "source": [
    "for book in ['functional_analysis', 'principles_of_mathematical_analysis', 'real_and_complex_analysis']:\n",
    "    print(book)\n",
    "    definitions = pd.read_csv(f'./{book}/definitions.csv').sort_values(by='Definition').dropna().reset_index() \\\n",
    "         .drop(columns='index').dropna()\n",
    "    \n",
    "    corollaries = pd.read_csv(f'./{book}/corollaries.csv').sort_values(by='Corollary').dropna().reset_index() \\\n",
    "         .drop(columns='index')\n",
    "    \n",
    "    theorems = pd.read_csv(f'./{book}/theorems.csv').dropna()\n",
    "    theorems = theorems.drop(theorems[theorems['Proof']==\"Error, no proof value given.\"].index, axis=0)\n",
    "    theorems = theorems.sort_values(by='Theorem').reset_index().drop(columns='index') \n",
    "    \n",
    "    theorems['Proof'] = theorems['Proof'].str.replace('\\n', ' ')\n",
    "    theorems['References'] = np.nan\n",
    "\n",
    "    for i in range(len(theorems)):\n",
    "        #print(i)\n",
    "        theorem_statement = theorems['Statement'][i]\n",
    "        theorem_number = theorems['Theorem'][i]\n",
    "        theorem_proof = theorems['Proof'][i]\n",
    "        #print(\"Proof\", theorem_proof)\n",
    "\n",
    "        # get the theorems used in the proof\n",
    "        if theorem_proof:\n",
    "            theorems_used = re.findall(theorem_pattern, theorem_proof)\n",
    "            definitions_used = re.findall(definition_pattern, theorem_proof)\n",
    "            corollaries_used = re.findall(corollary_pattern, theorem_proof)\n",
    "\n",
    "            entry = ''\n",
    "\n",
    "            if len(theorems_used) != 0:\n",
    "                #print('Theorems used:')\n",
    "                #print(theorems_used)\n",
    "\n",
    "                theorem_statements = get_statements(theorems, theorems_used)\n",
    "                definition_statements = get_statements(definitions, definitions_used)\n",
    "                corollaries_used = get_statements(corollaries, corollaries_used)\n",
    "\n",
    "                entry += theorem_statements + ' ; '\n",
    "                entry += definition_statements + ' ; '\n",
    "                entry += corollaries_used \n",
    "\n",
    "                theorems['References'][i] = entry\n",
    "                \n",
    "                \n",
    "    theorems.fillna('', inplace=True)\n",
    "    theorems.to_csv(f'./{book}/theorems_final.csv', index=False)"
   ]
  },
  {
   "cell_type": "code",
   "execution_count": null,
   "metadata": {},
   "outputs": [],
   "source": []
  }
 ],
 "metadata": {
  "kernelspec": {
   "display_name": "Python 3 (ipykernel)",
   "language": "python",
   "name": "python3"
  },
  "language_info": {
   "codemirror_mode": {
    "name": "ipython",
    "version": 3
   },
   "file_extension": ".py",
   "mimetype": "text/x-python",
   "name": "python",
   "nbconvert_exporter": "python",
   "pygments_lexer": "ipython3",
   "version": "3.11.5"
  },
  "vscode": {
   "interpreter": {
    "hash": "5c7b89af1651d0b8571dde13640ecdccf7d5a6204171d6ab33e7c296e100e08a"
   }
  }
 },
 "nbformat": 4,
 "nbformat_minor": 2
}
