{
 "cells": [
  {
   "cell_type": "code",
   "execution_count": 9,
   "metadata": {},
   "outputs": [],
   "source": [
    "import pandas as pd\n",
    "import numpy as np\n",
    "import matplotlib.pyplot as plt\n",
    "import regex as re"
   ]
  },
  {
   "cell_type": "markdown",
   "metadata": {},
   "source": [
    "Theorems"
   ]
  },
  {
   "cell_type": "code",
   "execution_count": 51,
   "metadata": {},
   "outputs": [],
   "source": [
    "theorems = pd.read_csv('./functional_analysis/theorems.csv')"
   ]
  },
  {
   "cell_type": "code",
   "execution_count": 12,
   "metadata": {},
   "outputs": [],
   "source": [
    "# regex to get the theorems used in the proofs. Get text that looks like 'Theorem <multiple digit number>.<multiple digit number>' or 'Statement <letter or number> of Theorem <multiple digit number>.<multiple digit number>'\n",
    "pattern = r'(Theorem \\d+\\.\\d+)|(Statement \\w+ of Theorem \\d+\\.\\d+)'"
   ]
  },
  {
   "cell_type": "code",
   "execution_count": 52,
   "metadata": {},
   "outputs": [],
   "source": [
    "# fill na with empty string\n",
    "\n",
    "theorems.fillna('', inplace=True)"
   ]
  },
  {
   "cell_type": "code",
   "execution_count": 53,
   "metadata": {},
   "outputs": [
    {
     "data": {
      "text/plain": [
       "''"
      ]
     },
     "execution_count": 53,
     "metadata": {},
     "output_type": "execute_result"
    }
   ],
   "source": [
    "theorems['Proof'][71]"
   ]
  },
  {
   "cell_type": "code",
   "execution_count": null,
   "metadata": {},
   "outputs": [],
   "source": [
    "theorems['Proof'] = theorems['Proof'].str.replace('\\n', ' ')\n",
    "theorems['Theorems Used'] = np.nan\n",
    "\n",
    "for i in range(len(theorems)):\n",
    "    #print(i)\n",
    "    theorem_statement = theorems['Statement'][i]\n",
    "    theorem_number = theorems['Theorem'][i]\n",
    "    theorem_proof = theorems['Proof'][i]\n",
    "    #print(\"Proof\", theorem_proof)\n",
    "\n",
    "    # get the theorems used in the proof\n",
    "    if theorem_proof:\n",
    "        theorems_used = re.findall(pattern, theorem_proof)\n",
    "\n",
    "        if len(theorems_used) == 0:\n",
    "            print('No theorems used')\n",
    "        else:\n",
    "            print('Theorems used:')\n",
    "            print(theorems_used)\n",
    "\n",
    "            entry = ''\n",
    "            # get the theorem statements from the dataset\n",
    "            for t in theorems_used:\n",
    "                '''number = t[0].split(' ')[1]\n",
    "\n",
    "                try:\n",
    "                    statement = theorems[theorems['Theorem']==number]['Statement'].values[0]\n",
    "                except:\n",
    "                    statement = ''\n",
    "\n",
    "                    print('Theorem not found')'''\n",
    "\n",
    "                entry += t[0] + '; '\n",
    "\n",
    "            theorems['Theorems Used'][i] = entry\n",
    "\n",
    "    print('\\n')"
   ]
  },
  {
   "cell_type": "code",
   "execution_count": 58,
   "metadata": {},
   "outputs": [],
   "source": [
    "theorems.to_csv('./functional_analysis/theorems_final.csv', index=False)"
   ]
  }
 ],
 "metadata": {
  "kernelspec": {
   "display_name": "Python 3",
   "language": "python",
   "name": "python3"
  },
  "language_info": {
   "codemirror_mode": {
    "name": "ipython",
    "version": 3
   },
   "file_extension": ".py",
   "mimetype": "text/x-python",
   "name": "python",
   "nbconvert_exporter": "python",
   "pygments_lexer": "ipython3",
   "version": "3.8.0"
  }
 },
 "nbformat": 4,
 "nbformat_minor": 2
}
