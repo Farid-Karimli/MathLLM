{
 "cells": [
  {
   "cell_type": "code",
   "execution_count": 8,
   "metadata": {},
   "outputs": [],
   "source": [
    "from openai import OpenAI\n",
    "from dotenv import load_dotenv\n",
    "import pandas as pd\n",
    "\n",
    "load_dotenv() # I have a .env file with my API key on my local directory\n",
    "\n",
    "client = OpenAI()"
   ]
  },
  {
   "cell_type": "markdown",
   "metadata": {},
   "source": [
    "#### Creating training data file"
   ]
  },
  {
   "cell_type": "code",
   "execution_count": null,
   "metadata": {},
   "outputs": [],
   "source": [
    "# csv file with columns theorem, and theorems needed to prove it\n",
    "# need to turn it into the following format: \n",
    "# {\"messages\": [{\"role\": \"system\", \"content\": \"You are a real analysis question helper. Once given a real analysis statement or question, you say what real analysis theorems are needed to help solve or prove it.\"}, {\"role\": \"user\", \"content\": \"<Real Analysis theorem statement or question>\"}, {\"role\": \"assistant\", \"content\": \"<theorems needed to solve the question or prove the statement>\"}]}\n",
    "\n",
    "data = {\"messages\": []}\n",
    "\n",
    "theorems = pd.read_csv(\"../theorems.csv\")\n",
    "\n",
    "jsonl_file = open(\"training_data.jsonl\", \"w\")\n",
    "\n",
    "for i in range(len(theorems)):\n",
    "    data[\"messages\"] = []\n",
    "\n",
    "    data[\"messages\"].append({\"role\": \"system\", \"content\": \"You are a real analysis question helper. Once given a real analysis statement or question, you say what real analysis theorems are needed to help solve or prove it.\"})\n",
    "    data[\"messages\"].append({\"role\": \"user\", \"content\": theorems.iloc[i][\"Statement\"]}) # CHANGE    \n",
    "    data[\"messages\"].append({\"role\": \"assistant\", \"content\": theorems.iloc[i][\"Proof\"]}) # CHANGE\n",
    "\n",
    "    jsonl_file.write(str(data))\n"
   ]
  },
  {
   "cell_type": "markdown",
   "metadata": {},
   "source": [
    "Uploading file "
   ]
  },
  {
   "cell_type": "code",
   "execution_count": null,
   "metadata": {},
   "outputs": [],
   "source": [
    "training_data = open(\"training_data.jsonl\", \"rb\")\n",
    "\n",
    "\n",
    "client.files.create(\n",
    "  file=training_data\n",
    "  purpose=\"fine-tune\"\n",
    ")"
   ]
  },
  {
   "cell_type": "markdown",
   "metadata": {},
   "source": [
    "#### Creating a fine-tuning job"
   ]
  },
  {
   "cell_type": "code",
   "execution_count": null,
   "metadata": {},
   "outputs": [],
   "source": [
    "TRAINING_FILE = \"\" # TODO: replace with file id\n",
    "\n",
    "client.fine_tuning.jobs.create(\n",
    "  training_file=TRAINING_FILE, \n",
    "  model=\"gpt-3.5-turbo\"\n",
    ")"
   ]
  },
  {
   "cell_type": "code",
   "execution_count": null,
   "metadata": {},
   "outputs": [],
   "source": [
    "JOB_ID = 0 #TODO: Get the job id from the fine-tuning job creation\n",
    "\n",
    "# Retrieve the state of a fine-tune\n",
    "client.fine_tuning.jobs.retrieve(JOB_ID)\n",
    "\n",
    "# Cancel a job\n",
    "client.fine_tuning.jobs.cancel(JOB_ID)"
   ]
  },
  {
   "cell_type": "markdown",
   "metadata": {},
   "source": [
    "Testing"
   ]
  },
  {
   "cell_type": "code",
   "execution_count": null,
   "metadata": {},
   "outputs": [],
   "source": [
    "from openai import OpenAI\n",
    "client = OpenAI()\n",
    "\n",
    "response = client.chat.completions.create(\n",
    "  model=\"ft:gpt-3.5-turbo:my-org:custom_suffix:id\",\n",
    "  messages=[\n",
    "    # TODO: Populate with messages to send to GPT-4\n",
    "  ]\n",
    ")\n",
    "print(response.choices[0].message)"
   ]
  }
 ],
 "metadata": {
  "kernelspec": {
   "display_name": "Python 3",
   "language": "python",
   "name": "python3"
  },
  "language_info": {
   "codemirror_mode": {
    "name": "ipython",
    "version": 3
   },
   "file_extension": ".py",
   "mimetype": "text/x-python",
   "name": "python",
   "nbconvert_exporter": "python",
   "pygments_lexer": "ipython3",
   "version": "3.8.0"
  }
 },
 "nbformat": 4,
 "nbformat_minor": 2
}
