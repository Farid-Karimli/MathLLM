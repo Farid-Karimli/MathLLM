{
 "cells": [
  {
   "cell_type": "code",
   "execution_count": 367,
   "id": "8f110a34",
   "metadata": {},
   "outputs": [],
   "source": [
    "import requests\n",
    "import pdf2image \n",
    "import numpy as np\n",
    "from PIL import Image\n",
    "import pytesseract\n",
    "import re\n",
    "from IPython.display import display\n",
    "from tqdm import tqdm\n",
    "import pandas as pd\n",
    "import os\n",
    "import json\n",
    "import matplotlib.pyplot as plt\n",
    "import unidecode\n",
    "import io\n",
    "import PyPDF2\n",
    "import bs4 as bs\n",
    "import os\n",
    "import string\n",
    "from itertools import product"
   ]
  },
  {
   "cell_type": "code",
   "execution_count": 6,
   "id": "ddaacf2f",
   "metadata": {},
   "outputs": [],
   "source": [
    "pattern = r\" 0\\\\n\\( (\\d+ \\d+ \\d+ \\d+) ((?:0\\\\n\\d+ \\d+ \\d+ \\d+ \\d+ )+)0\\\\n\\) \\d+ \\d+ \\d+ \\d+\"\n",
    "compiled_pattern = re.compile(pattern)\n",
    "\n",
    "def get_num_pages(pdf):\n",
    "    pdf_file = io.BytesIO(pdf.content)\n",
    "    pdf_reader = PyPDF2.PdfReader(pdf_file)\n",
    "    num_pages = len(pdf_reader.pages)\n",
    "    return num_pages"
   ]
  },
  {
   "cell_type": "code",
   "execution_count": 382,
   "id": "b8fcccac",
   "metadata": {},
   "outputs": [],
   "source": [
    "pattern = re.compile(r\"(\\(\\d+\\))\")\n",
    "pattern2 = re.compile(r\"(\\d+ \\d+ \\d+ \\d+);\")\n",
    "\n",
    "def custom_selector(tag):\n",
    "    if type(tag) is bs.element.Tag:\n",
    "    # Return \"span\" tags with a class name of \"target_span\"\n",
    "        condition1= tag.name == \"span\" and \"ocrx_word\" in tag.get(\"class\")\n",
    "        condition2 =  tag.previousSibling == '\\n' and tag.next_sibling == '\\n'\n",
    "        child = tag.find_all_next() \n",
    "        if child: \n",
    "            condition4 = child[0].find_all_previous()[0] == tag # checking to make sure it is first child\n",
    "            condition3 = re.match(pattern, str(tag.string)) \n",
    "            return condition1 and condition2 and condition3 and condition4\n",
    "    return False\n",
    "\n",
    "fn = lambda x : 255 if x >= 127.5 else 0\n",
    "\n",
    "def extract_formulas(image_, chapter):\n",
    "    image = image_.convert('L').point(fn, mode='1')\n",
    "    w,h = image.size\n",
    "    hocr = pytesseract.image_to_pdf_or_hocr(image, extension='hocr')\n",
    "    soup = bs.BeautifulSoup(hocr,'html.parser')\n",
    "    matches = soup.find_all(custom_selector)\n",
    "    im = np.asarray(image_)\n",
    "    alphabet = list(string.ascii_lowercase)\n",
    "    for match in matches: \n",
    "        x_0,y_0,x_1,y_1 = [int(x) for x in re.findall(pattern2, match.get(\"title\"))[0].split(' ')]\n",
    "        if x_0 < w/4: # extra check to make sure it doesn't misclassify an i for a 1\n",
    "            continue\n",
    "        formula_num = int(''.join(c for c in str(match.string) if c.isdigit()))\n",
    "        final_image = Image.fromarray(im[y_0-120:y_1+120, :])\n",
    "        fname = f'real_and_complex/{chapter}_{formula_num}.jpg'\n",
    "        count = 0\n",
    "        while os.path.isfile(fname): # multiple formulas named the same in the same chapter\n",
    "            fname = f'real_and_complex/{chapter}_{formula_num}_' + alphabet[count] + '.jpg'\n",
    "            count += 1\n",
    "            if count == 26:\n",
    "                alphabet = [''.join(x) for x in list(product(alphabet, alphabet))]\n",
    "                count = 0\n",
    "        final_image.save(fname)"
   ]
  },
  {
   "cell_type": "code",
   "execution_count": 1,
   "id": "74c604da",
   "metadata": {},
   "outputs": [
    {
     "ename": "NameError",
     "evalue": "name 'images' is not defined",
     "output_type": "error",
     "traceback": [
      "\u001b[0;31m---------------------------------------------------------------------------\u001b[0m",
      "\u001b[0;31mNameError\u001b[0m                                 Traceback (most recent call last)",
      "Cell \u001b[0;32mIn[1], line 1\u001b[0m\n\u001b[0;32m----> 1\u001b[0m \u001b[43mimages\u001b[49m\n",
      "\u001b[0;31mNameError\u001b[0m: name 'images' is not defined"
     ]
    }
   ],
   "source": [
    "images"
   ]
  },
  {
   "cell_type": "code",
   "execution_count": 240,
   "id": "61e6aa27",
   "metadata": {},
   "outputs": [],
   "source": [
    "books = {'principles_of_mathematical_analysis': 'https://download.tuxfamily.org/openmathdep/analysis_real/Principles_of_Mathematical_Analysis-Rudin.pdf', \n",
    "             'real_and_complex_analysis': 'https://perso.telecom-paristech.fr/decreuse/_downloads/c22155fef582344beb326c1f44f437d2/rudin.pdf', \n",
    "            'functional_analysis':'https://www.mymathscloud.com/api/download/modules/University/Textbooks/functional-analysis/Functional%20Analysis%20Rudin.pdf?id=48928539' }"
   ]
  },
  {
   "cell_type": "code",
   "execution_count": 324,
   "id": "b511beca",
   "metadata": {},
   "outputs": [
    {
     "name": "stderr",
     "output_type": "stream",
     "text": [
      "100%|███████████████████████████████████████████| 10/10 [00:50<00:00,  5.09s/it]\n"
     ]
    }
   ],
   "source": [
    "url = books['real_and_complex_analysis']\n",
    "pdf = requests.get(url, stream=True)\n",
    "\n",
    "images = []\n",
    "for first_page, last_page in tqdm([(x[0], x[-1]) for x in np.array_split(range(get_num_pages(pdf)), 10)]):\n",
    "    images.append(pdf2image.convert_from_bytes(pdf.content, first_page=first_page, \n",
    "                    last_page=last_page, thread_count=10, grayscale=True, dpi = 500))\n",
    "    \n",
    "images = [item for row in images for item in row]"
   ]
  },
  {
   "cell_type": "code",
   "execution_count": 245,
   "id": "43888976",
   "metadata": {},
   "outputs": [],
   "source": [
    "\"\"\"chapters = {1:(1,21), 2: (24,43), 3: (47,78), 4:(83,98), 5:(103, 114),\\\n",
    "6:(120,138), 7:(143, 165), 8:(172,196), 9:(204, 239), 10:(245, 288), 11:(300,332)}\n",
    "chapters = {k:(v[0]+9, v[1]+9) for k,v in chapters.items()}\n",
    "\"\"\"\n",
    "chapters = {1:(5,31), 2: (33,57), 3: (61,71), 4:(76,92),\\\n",
    "            5:(95, 112), 6:(116,132), 7:(135, 156), 8:(160,174), 9:(178, 193), 10:(196, 227),\\\n",
    "            11:(231,249), 12: (253, 264), 13: (266, 276), 14: (278, 293), 15: (298, 315), \\\n",
    "           16: (319, 332), 17: (335, 352), 18: (356, 369), 19: (371, 383), 20: (386, 394)}\n",
    "chapters = {k:(v[0]+14, v[1]+14) for k,v in chapters.items()}\n"
   ]
  },
  {
   "cell_type": "code",
   "execution_count": 383,
   "id": "d1195478",
   "metadata": {},
   "outputs": [
    {
     "name": "stderr",
     "output_type": "stream",
     "text": [
      "Processing chapter 20: 100%|██████████████████████| 9/9 [00:19<00:00,  2.16s/it]\n"
     ]
    }
   ],
   "source": [
    "with tqdm(total=chapters[1][1] - chapters[1][0] + 1 , position = 0, leave = True, desc = f\"Processing chapter 1\") as pbar: \n",
    "    for chapter, (start, end) in chapters.items():\n",
    "        if chapter == 1:\n",
    "            pass\n",
    "        else: \n",
    "            pbar.reset(total = end - start + 1)\n",
    "            pbar.set_description(f\"Processing chapter {chapter}\")\n",
    "        for page in range(start, end+1):\n",
    "            if page == start: \n",
    "                list(string.ascii_lowercase)\n",
    "            extract_formulas(images[page], chapter)\n",
    "            pbar.update(1)"
   ]
  },
  {
   "cell_type": "code",
   "execution_count": null,
   "id": "830dd2c4",
   "metadata": {},
   "outputs": [],
   "source": [
    "pattern = r\"^\\d+\\.\\d+ (Theorem|Definition|Definitions|Proposition|Corollary|Remark)\"\n",
    "compiled_pattern = re.compile(pattern, re.MULTILINE)\n",
    "matches = [m.start(0) for m in re.finditer(compiled_pattern, document_content)]\n",
    "chunks = [document_content[start:end].strip() for start, end in zip(matches[:-1], matches[1:])]\n",
    "chunks.append(document_content[matches[-1]:])"
   ]
  }
 ],
 "metadata": {
  "kernelspec": {
   "display_name": "env",
   "language": "python",
   "name": "env"
  },
  "language_info": {
   "codemirror_mode": {
    "name": "ipython",
    "version": 3
   },
   "file_extension": ".py",
   "mimetype": "text/x-python",
   "name": "python",
   "nbconvert_exporter": "python",
   "pygments_lexer": "ipython3",
   "version": "3.10.9"
  }
 },
 "nbformat": 4,
 "nbformat_minor": 5
}
