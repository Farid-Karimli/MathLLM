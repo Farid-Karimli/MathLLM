{
 "cells": [
  {
   "cell_type": "code",
   "execution_count": null,
   "metadata": {},
   "outputs": [],
   "source": [
    "import re\n",
    "import pandas as pd"
   ]
  },
  {
   "cell_type": "markdown",
   "metadata": {},
   "source": [
    "## principles of mathematical analysis"
   ]
  },
  {
   "cell_type": "code",
   "execution_count": 20,
   "metadata": {},
   "outputs": [
    {
     "name": "stdout",
     "output_type": "stream",
     "text": [
      "Modified CSV saved to: ../../training_data/principles_of_mathematical_analysis/corollaries_modified.csv\n",
      "Modified CSV saved to: ../../training_data/principles_of_mathematical_analysis/definitions_modified.csv\n",
      "Modified CSV saved to: ../../training_data/principles_of_mathematical_analysis/propositions_modified.csv\n",
      "Modified CSV saved to: ../../training_data/principles_of_mathematical_analysis/theorems_final_modified.csv\n"
     ]
    },
    {
     "name": "stderr",
     "output_type": "stream",
     "text": [
      "/var/folders/sm/23kfy0px6sv9kq7gflc_rn3h0000gn/T/ipykernel_1693/706459894.py:15: FutureWarning: Series.__getitem__ treating keys as positions is deprecated. In a future version, integer keys will always be treated as labels (consistent with DataFrame behavior). To access a value by position, use `ser.iloc[pos]`\n",
      "  chapter, _ = row[0].split('.')\n",
      "/var/folders/sm/23kfy0px6sv9kq7gflc_rn3h0000gn/T/ipykernel_1693/706459894.py:15: FutureWarning: Series.__getitem__ treating keys as positions is deprecated. In a future version, integer keys will always be treated as labels (consistent with DataFrame behavior). To access a value by position, use `ser.iloc[pos]`\n",
      "  chapter, _ = row[0].split('.')\n",
      "/var/folders/sm/23kfy0px6sv9kq7gflc_rn3h0000gn/T/ipykernel_1693/706459894.py:15: FutureWarning: Series.__getitem__ treating keys as positions is deprecated. In a future version, integer keys will always be treated as labels (consistent with DataFrame behavior). To access a value by position, use `ser.iloc[pos]`\n",
      "  chapter, _ = row[0].split('.')\n",
      "/var/folders/sm/23kfy0px6sv9kq7gflc_rn3h0000gn/T/ipykernel_1693/706459894.py:15: FutureWarning: Series.__getitem__ treating keys as positions is deprecated. In a future version, integer keys will always be treated as labels (consistent with DataFrame behavior). To access a value by position, use `ser.iloc[pos]`\n",
      "  chapter, _ = row[0].split('.')\n"
     ]
    }
   ],
   "source": [
    "def latex_formulas(file_path, formulas_path, output_path):\n",
    "    # Load CSV files\n",
    "    file_to_process = pd.read_csv(file_path)\n",
    "    formulas_df = pd.read_csv(formulas_path)\n",
    "\n",
    "    # Compile the pattern for matching digits in parentheses\n",
    "    pattern = re.compile(r\"\\((\\d+)\\)\")\n",
    "\n",
    "    # Iterate over the theorems dataframe\n",
    "    for i, row in file_to_process.iterrows():\n",
    "        # Split the first column to get chapter and formula number\n",
    "        chapter, _ = row[0].split('.')\n",
    "\n",
    "        for col in file_to_process.columns[1:]:  # Skip the first column\n",
    "            cell = str(row[col])  # Convert cell to string\n",
    "            modified_cell = cell\n",
    "            replaced_formulas = set()  # Keep track of replaced formula numbers\n",
    "\n",
    "            for match in re.finditer(pattern, cell):\n",
    "                formula_number = match.group(1)\n",
    "\n",
    "                # Check if this formula number has already been processed\n",
    "                if formula_number not in replaced_formulas:\n",
    "                    # Find the matching formula in formulas_df\n",
    "                    formula_row = formulas_df.loc[\n",
    "                        (formulas_df['Chapter'] == int(chapter)) & (formulas_df['Formula#'] == int(formula_number))\n",
    "                    ]\n",
    "\n",
    "                    if not formula_row.empty:\n",
    "                        # Get the LaTeX content and format it\n",
    "                        latex_content = formula_row.iloc[0]['latex']\n",
    "                        latex_content = latex_content.replace(\"$\", \"\")\n",
    "                        latex_content = \"<$$\" + latex_content + \"$$>\"\n",
    "\n",
    "                        # Add the LaTeX formula behind the matched pattern\n",
    "                        replacement = match.group(0) + \" \" + latex_content\n",
    "                        modified_cell = modified_cell.replace(match.group(0), replacement)\n",
    "                        replaced_formulas.add(formula_number)  # Mark this formula number as replaced\n",
    "\n",
    "            # Update the cell in the dataframe\n",
    "            file_to_process.at[i, col] = modified_cell\n",
    "\n",
    "    # Save the modified dataframe to a new CSV file\n",
    "    output_path = file_path.replace('.csv', '_modified.csv')\n",
    "    file_to_process.to_csv(output_path, index=False)\n",
    "    return output_path\n",
    "\n",
    "folder_path = '../../training_data/principles_of_mathematical_analysis/'\n",
    "file_paths = ['corollaries.csv', 'definitions.csv','propositions.csv', 'theorems_final.csv']\n",
    "formulas_path = folder_path + 'formulas.csv'\n",
    "for file in file_paths:\n",
    "    file_path = folder_path + file\n",
    "    output_path = file_path + '_modified.csv'\n",
    "    modified_csv_path = latex_formulas(file_path, formulas_path, output_path)\n",
    "    print(\"Modified CSV saved to:\", modified_csv_path)\n"
   ]
  },
  {
   "cell_type": "markdown",
   "metadata": {},
   "source": [
    "## real + functional"
   ]
  },
  {
   "cell_type": "code",
   "execution_count": null,
   "metadata": {},
   "outputs": [],
   "source": []
  }
 ],
 "metadata": {
  "kernelspec": {
   "display_name": "Python 3",
   "language": "python",
   "name": "python3"
  },
  "language_info": {
   "codemirror_mode": {
    "name": "ipython",
    "version": 3
   },
   "file_extension": ".py",
   "mimetype": "text/x-python",
   "name": "python",
   "nbconvert_exporter": "python",
   "pygments_lexer": "ipython3",
   "version": "3.10.11"
  }
 },
 "nbformat": 4,
 "nbformat_minor": 2
}
